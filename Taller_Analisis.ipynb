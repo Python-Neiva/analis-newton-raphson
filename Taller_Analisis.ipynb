{
  "nbformat": 4,
  "nbformat_minor": 0,
  "metadata": {
    "colab": {
      "name": "Taller_Analisis.ipynb",
      "provenance": [],
      "collapsed_sections": []
    },
    "kernelspec": {
      "name": "python3",
      "display_name": "Python 3"
    }
  },
  "cells": [
    {
      "cell_type": "markdown",
      "metadata": {
        "id": "ru62uDmsxFI7",
        "colab_type": "text"
      },
      "source": [
        "PUNTO 2"
      ]
    },
    {
      "cell_type": "code",
      "metadata": {
        "id": "O6jsXCc1s6Cb",
        "colab_type": "code",
        "outputId": "3fc43653-1c8f-42ea-a0b2-d0f02bc1c6b3",
        "colab": {
          "base_uri": "https://localhost:8080/",
          "height": 105
        }
      },
      "source": [
        "import numpy as np\n",
        "import matplotlib.pyplot as plt\n",
        "\n",
        "def f(x):\n",
        "    return x**2 - x - 1\n",
        "def Df(x):\n",
        "    return 2 * x - 1\n",
        "\n",
        "x0=-1\n",
        "i=1\n",
        "error = 10\n",
        "while error >1e-10:\n",
        "\n",
        "    x1 = x0 - f(x0) / Df(x0)\n",
        "    error = abs(x1 - x0)\n",
        "    x0= x1\n",
        "    \n",
        "    print(\"Iteracion\",i,\", Raiz Aproximada: \",x0)\n",
        "    i = i + 1"
      ],
      "execution_count": 0,
      "outputs": [
        {
          "output_type": "stream",
          "text": [
            "Iteracion 1 , Raiz Aproximada:  -0.6666666666666667\n",
            "Iteracion 2 , Raiz Aproximada:  -0.6190476190476191\n",
            "Iteracion 3 , Raiz Aproximada:  -0.6180344478216819\n",
            "Iteracion 4 , Raiz Aproximada:  -0.6180339887499892\n",
            "Iteracion 5 , Raiz Aproximada:  -0.6180339887498948\n"
          ],
          "name": "stdout"
        }
      ]
    },
    {
      "cell_type": "code",
      "metadata": {
        "id": "zelLQ-AGvugR",
        "colab_type": "code",
        "outputId": "72daee5e-4351-407f-b276-c6ede4add916",
        "colab": {
          "base_uri": "https://localhost:8080/",
          "height": 282
        }
      },
      "source": [
        "# f(x)= x^2 - x -1\n",
        "import numpy as np\n",
        "import matplotlib.pyplot as plt\n",
        "\n",
        "x = np.linspace(-10, 10, 100)\n",
        "plt.plot(x, x**2 - x - 1)\n",
        "\n",
        "plt.grid()\n",
        "plt.show"
      ],
      "execution_count": 0,
      "outputs": [
        {
          "output_type": "execute_result",
          "data": {
            "text/plain": [
              "<function matplotlib.pyplot.show>"
            ]
          },
          "metadata": {
            "tags": []
          },
          "execution_count": 1
        },
        {
          "output_type": "display_data",
          "data": {
            "image/png": "[encoded data removed]",
            "text/plain": [
              "<Figure size 432x288 with 1 Axes>"
            ]
          },
          "metadata": {
            "tags": [],
            "needs_background": "light"
          }
        }
      ]
    },
    {
      "cell_type": "markdown",
      "metadata": {
        "id": "5tyqnuAexOTK",
        "colab_type": "text"
      },
      "source": [
        "PUNTO 3"
      ]
    },
    {
      "cell_type": "code",
      "metadata": {
        "id": "CkwUO9EYxTyz",
        "colab_type": "code",
        "outputId": "979c10d9-8bf1-436e-e2ac-8fde6173127b",
        "colab": {
          "base_uri": "https://localhost:8080/",
          "height": 176
        }
      },
      "source": [
        "import numpy as np\n",
        "import matplotlib.pyplot as plt\n",
        "\n",
        "def f(x):\n",
        "    return np.exp(-x) -x\n",
        "def Df(x):\n",
        "    return -np.exp(-x) - 1\n",
        "\n",
        "x0=1\n",
        "i=1\n",
        "error = 10\n",
        "while error >1e-10 and i<10:\n",
        "\n",
        "    x1 = x0 - f(x0) / Df(x0)\n",
        "    error = abs(x1 - x0/x1)\n",
        "    x0= x1\n",
        "    \n",
        "    print(\"Iteracion\",i,\", Raiz Aproximada: \",x0)\n",
        "\n",
        "    i = i + 1\n",
        "\n",
        "    "
      ],
      "execution_count": 0,
      "outputs": [
        {
          "output_type": "stream",
          "text": [
            "Iteracion 1 , Raiz Aproximada:  0.5378828427399902\n",
            "Iteracion 2 , Raiz Aproximada:  0.5669869914054133\n",
            "Iteracion 3 , Raiz Aproximada:  0.567143285989123\n",
            "Iteracion 4 , Raiz Aproximada:  0.5671432904097838\n",
            "Iteracion 5 , Raiz Aproximada:  0.5671432904097838\n",
            "Iteracion 6 , Raiz Aproximada:  0.5671432904097838\n",
            "Iteracion 7 , Raiz Aproximada:  0.5671432904097838\n",
            "Iteracion 8 , Raiz Aproximada:  0.5671432904097838\n",
            "Iteracion 9 , Raiz Aproximada:  0.5671432904097838\n"
          ],
          "name": "stdout"
        }
      ]
    },
    {
      "cell_type": "code",
      "metadata": {
        "id": "A3JvLlISblZG",
        "colab_type": "code",
        "outputId": "321fdb52-acb8-4799-ff99-0f1561a4c357",
        "colab": {
          "base_uri": "https://localhost:8080/",
          "height": 293
        }
      },
      "source": [
        "import numpy as np\n",
        "import matplotlib.pyplot as plt\n",
        "\n",
        "x = np.linspace(-50, 50, 100)\n",
        "plt.plot(x, -np.exp(-x)  )\n",
        "\n",
        "plt.grid()\n",
        "plt.show"
      ],
      "execution_count": 0,
      "outputs": [
        {
          "output_type": "execute_result",
          "data": {
            "text/plain": [
              "<function matplotlib.pyplot.show>"
            ]
          },
          "metadata": {
            "tags": []
          },
          "execution_count": 55
        },
        {
          "output_type": "display_data",
          "data": {
            "image/png": "[encoded data removed]",
            "text/plain": [
              "<Figure size 432x288 with 1 Axes>"
            ]
          },
          "metadata": {
            "tags": [],
            "needs_background": "light"
          }
        }
      ]
    },
    {
      "cell_type": "markdown",
      "metadata": {
        "id": "kfTGRavdzaqj",
        "colab_type": "text"
      },
      "source": [
        "PUNTO 4"
      ]
    },
    {
      "cell_type": "code",
      "metadata": {
        "id": "qQELVWr8zaCQ",
        "colab_type": "code",
        "outputId": "c25d0b02-48a6-4c6a-8be5-be221aea7e3b",
        "colab": {
          "base_uri": "https://localhost:8080/",
          "height": 164
        }
      },
      "source": [
        "import numpy as np\n",
        "import matplotlib.pyplot as plt\n",
        "\n",
        "def f(x):\n",
        "    return x**5 -x +1\n",
        "def Df(x):\n",
        "    return 5 * x**4 -1 \n",
        "\n",
        "x0=-2\n",
        "i=1\n",
        "error = 10\n",
        "while error >1e-10:\n",
        "\n",
        "    x1 = x0 - f(x0) / Df(x0)\n",
        "    error = abs(x1 - x0)\n",
        "    x0= x1\n",
        "    \n",
        "    print(\"Iteracion\",i,\", Raiz Aproximada: \",x0)\n",
        "    i = i + 1"
      ],
      "execution_count": 8,
      "outputs": [
        {
          "output_type": "display_data",
          "data": {
            "text/html": [
              "<script src='https://www.gstatic.com/external_hosted/mathjax/latest/MathJax.js?config=default'></script>"
            ],
            "text/plain": [
              "<IPython.core.display.HTML object>"
            ]
          },
          "metadata": {
            "tags": []
          }
        },
        {
          "output_type": "stream",
          "text": [
            "Iteracion 1 , Raiz Aproximada:  -1.6329113924050633\n",
            "Iteracion 2 , Raiz Aproximada:  -1.3730855138655862\n",
            "Iteracion 3 , Raiz Aproximada:  -1.2235784352087191\n",
            "Iteracion 4 , Raiz Aproximada:  -1.1727319829379954\n",
            "Iteracion 5 , Raiz Aproximada:  -1.1673599072793783\n",
            "Iteracion 6 , Raiz Aproximada:  -1.1673039842671697\n",
            "Iteracion 7 , Raiz Aproximada:  -1.1673039782614187\n",
            "Iteracion 8 , Raiz Aproximada:  -1.1673039782614187\n"
          ],
          "name": "stdout"
        }
      ]
    },
    {
      "cell_type": "code",
      "metadata": {
        "id": "JdzDqOCv3DKM",
        "colab_type": "code",
        "outputId": "af701ed9-4d5c-405d-d06b-7f99c6b4d451",
        "colab": {
          "base_uri": "https://localhost:8080/",
          "height": 283
        }
      },
      "source": [
        "import numpy as np\n",
        "import matplotlib.pyplot as plt\n",
        "\n",
        "x = np.linspace(-1, 1, 100)\n",
        "plt.plot(x, (5 * x**4) -1 )\n",
        "\n",
        "plt.grid()\n",
        "plt.show"
      ],
      "execution_count": 7,
      "outputs": [
        {
          "output_type": "display_data",
          "data": {
            "text/html": [
              "<script src='https://www.gstatic.com/external_hosted/mathjax/latest/MathJax.js?config=default'></script>"
            ],
            "text/plain": [
              "<IPython.core.display.HTML object>"
            ]
          },
          "metadata": {
            "tags": []
          }
        },
        {
          "output_type": "execute_result",
          "data": {
            "text/plain": [
              "<function matplotlib.pyplot.show>"
            ]
          },
          "metadata": {
            "tags": []
          },
          "execution_count": 7
        },
        {
          "output_type": "display_data",
          "data": {
            "image/png": "[encoded data removed]",
            "text/plain": [
              "<Figure size 432x288 with 1 Axes>"
            ]
          },
          "metadata": {
            "tags": [],
            "needs_background": "light"
          }
        }
      ]
    },
    {
      "cell_type": "markdown",
      "metadata": {
        "id": "C2qc3FaBBWCG",
        "colab_type": "text"
      },
      "source": [
        "PUNTO 5\n"
      ]
    },
    {
      "cell_type": "code",
      "metadata": {
        "id": "GXXZH3sP88s9",
        "colab_type": "code",
        "colab": {}
      },
      "source": [
        "def f(x):\n",
        "    return np.sin(x)-x\n",
        "def Df(x):\n",
        "    return np.cos(x)-x\n",
        "\n",
        "x0=1\n",
        "i=1\n",
        "error = 10\n",
        "while error >1e-10 and i<10:\n",
        "\n",
        "    x1 = x0 - f(x0) / Df(x0)\n",
        "    error = abs(x1 - x0)\n",
        "    x0= x1\n",
        "    \n",
        "    print(\"Iteracion\",i,\", Raiz Aproximada: \",x0)\n",
        "    i = i + 1\n"
      ],
      "execution_count": 0,
      "outputs": []
    },
    {
      "cell_type": "code",
      "metadata": {
        "id": "y-gd7RsR_PXT",
        "colab_type": "code",
        "outputId": "90941b6a-7c8b-4361-b33d-f2f411187919",
        "colab": {
          "base_uri": "https://localhost:8080/",
          "height": 282
        }
      },
      "source": [
        "import numpy as np\n",
        "import matplotlib.pyplot as plt\n",
        "\n",
        "x = np.linspace(-2, 2, 100)\n",
        "plt.plot(x, np.cos(x)-x )\n",
        "\n",
        "plt.grid()\n",
        "plt.show"
      ],
      "execution_count": 0,
      "outputs": [
        {
          "output_type": "execute_result",
          "data": {
            "text/plain": [
              "<function matplotlib.pyplot.show>"
            ]
          },
          "metadata": {
            "tags": []
          },
          "execution_count": 31
        },
        {
          "output_type": "display_data",
          "data": {
            "image/png": "[encoded data removed]",
            "text/plain": [
              "<Figure size 432x288 with 1 Axes>"
            ]
          },
          "metadata": {
            "tags": [],
            "needs_background": "light"
          }
        }
      ]
    },
    {
      "cell_type": "markdown",
      "metadata": {
        "id": "O9RFlhm2ZC_I",
        "colab_type": "text"
      },
      "source": [
        "EJERCICIO PARCIAL\n"
      ]
    },
    {
      "cell_type": "code",
      "metadata": {
        "id": "oJNJQD5Px5xT",
        "colab_type": "code",
        "colab": {}
      },
      "source": [
        ""
      ],
      "execution_count": 0,
      "outputs": []
    },
    {
      "cell_type": "code",
      "metadata": {
        "id": "yEsNPgy2ZAlV",
        "colab_type": "code",
        "colab": {}
      },
      "source": [
        "import numpy as np\n",
        "import matplotlib.pyplot as plt\n",
        "\n",
        "x = np.linspace(-2, 2, 100)\n",
        "plt.plot(x, np.cos(x)-x )\n",
        "\n",
        "plt.grid()\n",
        "plt.show"
      ],
      "execution_count": 0,
      "outputs": []
    },
    {
      "cell_type": "code",
      "metadata": {
        "id": "Q6VHO7IktXKO",
        "colab_type": "code",
        "colab": {}
      },
      "source": [
        "from IPython.display import Math, HTML\n",
        "\n",
        "def load_mathjax_in_cell_output():\n",
        "  display(HTML(\"<script src='https://www.gstatic.com/external_hosted/\"\n",
        "               \"mathjax/latest/MathJax.js?config=default'></script>\"))\n",
        "get_ipython().events.register('pre_run_cell', load_mathjax_in_cell_output)"
      ],
      "execution_count": 0,
      "outputs": []
    },
    {
      "cell_type": "code",
      "metadata": {
        "id": "OBFYY4cutXGw",
        "colab_type": "code",
        "colab": {
          "base_uri": "https://localhost:8080/",
          "height": 64
        },
        "outputId": "733bdb72-610e-4bea-81ec-0dcf4b3a8119"
      },
      "source": [
        "# try it out:\n",
        "import sympy\n",
        "sympy.init_printing()\n",
        "x = sympy.symbols('x')\n",
        "sympy.sqrt(1 / x)\n",
        "\n",
        "(9*sympy.exp(x))*(sympy.cos(2*sympy.pi*x)-3)"
      ],
      "execution_count": 12,
      "outputs": [
        {
          "output_type": "display_data",
          "data": {
            "text/html": [
              "<script src='https://www.gstatic.com/external_hosted/mathjax/latest/MathJax.js?config=default'></script>"
            ],
            "text/plain": [
              "<IPython.core.display.HTML object>"
            ]
          },
          "metadata": {
            "tags": []
          }
        },
        {
          "output_type": "execute_result",
          "data": {
            "image/png": "[encoded data removed]",
            "text/latex": "$$9 \\left(\\cos{\\left (2 \\pi x \\right )} - 3\\right) e^{x}$$",
            "text/plain": [
              "                    x\n",
              "9⋅(cos(2⋅π⋅x) - 3)⋅ℯ "
            ]
          },
          "metadata": {
            "tags": []
          },
          "execution_count": 12
        }
      ]
    },
    {
      "cell_type": "code",
      "metadata": {
        "id": "ZIyKoTyf2wbz",
        "colab_type": "code",
        "colab": {
          "base_uri": "https://localhost:8080/",
          "height": 64
        },
        "outputId": "f7808d6d-2688-4d6b-d091-4fb38a5b5bff"
      },
      "source": [
        "-9*sympy.exp(x)*(2*sympy.pi)*sympy.sin(2*sympy.pi*x)-sympy.cos(2*sympy.pi*x)"
      ],
      "execution_count": 10,
      "outputs": [
        {
          "output_type": "display_data",
          "data": {
            "text/html": [
              "<script src='https://www.gstatic.com/external_hosted/mathjax/latest/MathJax.js?config=default'></script>"
            ],
            "text/plain": [
              "<IPython.core.display.HTML object>"
            ]
          },
          "metadata": {
            "tags": []
          }
        },
        {
          "output_type": "execute_result",
          "data": {
            "image/png": "[encoded data removed]",
            "text/latex": "$$- 18 \\pi e^{x} \\sin{\\left (2 \\pi x \\right )} - \\cos{\\left (2 \\pi x \\right )}$$",
            "text/plain": [
              "        x                        \n",
              "- 18⋅π⋅ℯ ⋅sin(2⋅π⋅x) - cos(2⋅π⋅x)"
            ]
          },
          "metadata": {
            "tags": []
          },
          "execution_count": 10
        }
      ]
    }
  ]
}